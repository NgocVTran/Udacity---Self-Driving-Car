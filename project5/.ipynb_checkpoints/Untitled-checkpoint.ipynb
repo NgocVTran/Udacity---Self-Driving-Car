{
 "cells": [
  {
   "cell_type": "code",
   "execution_count": 4,
   "metadata": {},
   "outputs": [],
   "source": [
    "import glob\n",
    "import cv2"
   ]
  },
  {
   "cell_type": "code",
   "execution_count": null,
   "metadata": {
    "collapsed": true
   },
   "outputs": [],
   "source": []
  },
  {
   "cell_type": "code",
   "execution_count": null,
   "metadata": {
    "collapsed": true
   },
   "outputs": [],
   "source": []
  },
  {
   "cell_type": "code",
   "execution_count": null,
   "metadata": {
    "collapsed": true
   },
   "outputs": [],
   "source": []
  },
  {
   "cell_type": "code",
   "execution_count": 6,
   "metadata": {},
   "outputs": [
    {
     "name": "stdout",
     "output_type": "stream",
     "text": [
      "test_images\\test1.jpg\n",
      "test_images\\test2.jpg\n",
      "test_images\\test3.jpg\n",
      "test_images\\test4.jpg\n",
      "test_images\\test5.jpg\n",
      "test_images\\test6.jpg\n"
     ]
    }
   ],
   "source": [
    "for image in glob.glob('test_images/*.jpg'):\n",
    "    s1 = image\n",
    "    s2 = \"test_images\"\n",
    "    print(s1[s1.index(s2) + len(s2):])\n",
    "#     image = cv2.imread(image)\n"
   ]
  },
  {
   "cell_type": "code",
   "execution_count": 14,
   "metadata": {},
   "outputs": [
    {
     "name": "stdout",
     "output_type": "stream",
     "text": [
      "\\test1.jpg\n"
     ]
    }
   ],
   "source": [
    "s1 = \"test_images\\\\test1.jpg\"\n",
    "s2 = \"test_images\"\n",
    "\n",
    "print(s1[s1.index(s2) + len(s2):])"
   ]
  },
  {
   "cell_type": "code",
   "execution_count": null,
   "metadata": {
    "collapsed": true
   },
   "outputs": [],
   "source": []
  }
 ],
 "metadata": {
  "kernelspec": {
   "display_name": "Python 3",
   "language": "python",
   "name": "python3"
  },
  "language_info": {
   "codemirror_mode": {
    "name": "ipython",
    "version": 3
   },
   "file_extension": ".py",
   "mimetype": "text/x-python",
   "name": "python",
   "nbconvert_exporter": "python",
   "pygments_lexer": "ipython3",
   "version": "3.5.2"
  }
 },
 "nbformat": 4,
 "nbformat_minor": 2
}
